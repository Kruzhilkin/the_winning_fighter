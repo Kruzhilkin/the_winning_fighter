{
 "cells": [
  {
   "cell_type": "code",
   "execution_count": 223,
   "metadata": {},
   "outputs": [],
   "source": [
    "import re\n",
    "import numpy as np\n",
    "import pandas as pd"
   ]
  },
  {
   "cell_type": "code",
   "execution_count": 224,
   "metadata": {},
   "outputs": [],
   "source": [
    "from sklearn.pipeline import Pipeline\n",
    "from sklearn.ensemble import RandomForestClassifier\n",
    "from sklearn.metrics import accuracy_score\n",
    "from sklearn.metrics import classification_report\n",
    "from sklearn.model_selection import cross_val_score"
   ]
  },
  {
   "cell_type": "code",
   "execution_count": 225,
   "metadata": {},
   "outputs": [],
   "source": [
    "from catboost import CatBoostClassifier"
   ]
  },
  {
   "cell_type": "code",
   "execution_count": 226,
   "metadata": {},
   "outputs": [
    {
     "data": {
      "text/html": [
       "<div>\n",
       "<style scoped>\n",
       "    .dataframe tbody tr th:only-of-type {\n",
       "        vertical-align: middle;\n",
       "    }\n",
       "\n",
       "    .dataframe tbody tr th {\n",
       "        vertical-align: top;\n",
       "    }\n",
       "\n",
       "    .dataframe thead th {\n",
       "        text-align: right;\n",
       "    }\n",
       "</style>\n",
       "<table border=\"1\" class=\"dataframe\">\n",
       "  <thead>\n",
       "    <tr style=\"text-align: right;\">\n",
       "      <th></th>\n",
       "      <th>R_fighter</th>\n",
       "      <th>B_fighter</th>\n",
       "      <th>Referee</th>\n",
       "      <th>date</th>\n",
       "      <th>location</th>\n",
       "      <th>Winner</th>\n",
       "      <th>title_bout</th>\n",
       "      <th>weight_class</th>\n",
       "      <th>B_avg_KD</th>\n",
       "      <th>B_avg_opp_KD</th>\n",
       "      <th>...</th>\n",
       "      <th>R_win_by_Decision_Unanimous</th>\n",
       "      <th>R_win_by_KO/TKO</th>\n",
       "      <th>R_win_by_Submission</th>\n",
       "      <th>R_win_by_TKO_Doctor_Stoppage</th>\n",
       "      <th>R_Stance</th>\n",
       "      <th>R_Height_cms</th>\n",
       "      <th>R_Reach_cms</th>\n",
       "      <th>R_Weight_lbs</th>\n",
       "      <th>B_age</th>\n",
       "      <th>R_age</th>\n",
       "    </tr>\n",
       "  </thead>\n",
       "  <tbody>\n",
       "    <tr>\n",
       "      <th>0</th>\n",
       "      <td>Adrian Yanez</td>\n",
       "      <td>Gustavo Lopez</td>\n",
       "      <td>Chris Tognoni</td>\n",
       "      <td>2021-03-20</td>\n",
       "      <td>Las Vegas, Nevada, USA</td>\n",
       "      <td>Red</td>\n",
       "      <td>False</td>\n",
       "      <td>Bantamweight</td>\n",
       "      <td>0.000</td>\n",
       "      <td>0.0</td>\n",
       "      <td>...</td>\n",
       "      <td>0</td>\n",
       "      <td>1</td>\n",
       "      <td>0</td>\n",
       "      <td>0</td>\n",
       "      <td>Orthodox</td>\n",
       "      <td>170.18</td>\n",
       "      <td>177.80</td>\n",
       "      <td>135.0</td>\n",
       "      <td>31.0</td>\n",
       "      <td>27.0</td>\n",
       "    </tr>\n",
       "    <tr>\n",
       "      <th>1</th>\n",
       "      <td>Trevin Giles</td>\n",
       "      <td>Roman Dolidze</td>\n",
       "      <td>Herb Dean</td>\n",
       "      <td>2021-03-20</td>\n",
       "      <td>Las Vegas, Nevada, USA</td>\n",
       "      <td>Red</td>\n",
       "      <td>False</td>\n",
       "      <td>Middleweight</td>\n",
       "      <td>0.500</td>\n",
       "      <td>0.0</td>\n",
       "      <td>...</td>\n",
       "      <td>0</td>\n",
       "      <td>3</td>\n",
       "      <td>0</td>\n",
       "      <td>0</td>\n",
       "      <td>Orthodox</td>\n",
       "      <td>182.88</td>\n",
       "      <td>187.96</td>\n",
       "      <td>185.0</td>\n",
       "      <td>32.0</td>\n",
       "      <td>28.0</td>\n",
       "    </tr>\n",
       "    <tr>\n",
       "      <th>2</th>\n",
       "      <td>Tai Tuivasa</td>\n",
       "      <td>Harry Hunsucker</td>\n",
       "      <td>Herb Dean</td>\n",
       "      <td>2021-03-20</td>\n",
       "      <td>Las Vegas, Nevada, USA</td>\n",
       "      <td>Red</td>\n",
       "      <td>False</td>\n",
       "      <td>Heavyweight</td>\n",
       "      <td>NaN</td>\n",
       "      <td>NaN</td>\n",
       "      <td>...</td>\n",
       "      <td>1</td>\n",
       "      <td>3</td>\n",
       "      <td>0</td>\n",
       "      <td>0</td>\n",
       "      <td>Southpaw</td>\n",
       "      <td>187.96</td>\n",
       "      <td>190.50</td>\n",
       "      <td>264.0</td>\n",
       "      <td>32.0</td>\n",
       "      <td>28.0</td>\n",
       "    </tr>\n",
       "    <tr>\n",
       "      <th>3</th>\n",
       "      <td>Cheyanne Buys</td>\n",
       "      <td>Montserrat Conejo</td>\n",
       "      <td>Mark Smith</td>\n",
       "      <td>2021-03-20</td>\n",
       "      <td>Las Vegas, Nevada, USA</td>\n",
       "      <td>Blue</td>\n",
       "      <td>False</td>\n",
       "      <td>WomenStrawweight</td>\n",
       "      <td>NaN</td>\n",
       "      <td>NaN</td>\n",
       "      <td>...</td>\n",
       "      <td>0</td>\n",
       "      <td>0</td>\n",
       "      <td>0</td>\n",
       "      <td>0</td>\n",
       "      <td>Switch</td>\n",
       "      <td>160.02</td>\n",
       "      <td>160.02</td>\n",
       "      <td>115.0</td>\n",
       "      <td>28.0</td>\n",
       "      <td>25.0</td>\n",
       "    </tr>\n",
       "    <tr>\n",
       "      <th>4</th>\n",
       "      <td>Marion Reneau</td>\n",
       "      <td>Macy Chiasson</td>\n",
       "      <td>Mark Smith</td>\n",
       "      <td>2021-03-20</td>\n",
       "      <td>Las Vegas, Nevada, USA</td>\n",
       "      <td>Blue</td>\n",
       "      <td>False</td>\n",
       "      <td>WomenBantamweight</td>\n",
       "      <td>0.125</td>\n",
       "      <td>0.0</td>\n",
       "      <td>...</td>\n",
       "      <td>1</td>\n",
       "      <td>2</td>\n",
       "      <td>2</td>\n",
       "      <td>0</td>\n",
       "      <td>Orthodox</td>\n",
       "      <td>167.64</td>\n",
       "      <td>172.72</td>\n",
       "      <td>135.0</td>\n",
       "      <td>29.0</td>\n",
       "      <td>43.0</td>\n",
       "    </tr>\n",
       "  </tbody>\n",
       "</table>\n",
       "<p>5 rows × 144 columns</p>\n",
       "</div>"
      ],
      "text/plain": [
       "       R_fighter          B_fighter        Referee        date  \\\n",
       "0   Adrian Yanez      Gustavo Lopez  Chris Tognoni  2021-03-20   \n",
       "1   Trevin Giles      Roman Dolidze      Herb Dean  2021-03-20   \n",
       "2    Tai Tuivasa    Harry Hunsucker      Herb Dean  2021-03-20   \n",
       "3  Cheyanne Buys  Montserrat Conejo     Mark Smith  2021-03-20   \n",
       "4  Marion Reneau      Macy Chiasson     Mark Smith  2021-03-20   \n",
       "\n",
       "                 location Winner  title_bout       weight_class  B_avg_KD  \\\n",
       "0  Las Vegas, Nevada, USA    Red       False       Bantamweight     0.000   \n",
       "1  Las Vegas, Nevada, USA    Red       False       Middleweight     0.500   \n",
       "2  Las Vegas, Nevada, USA    Red       False        Heavyweight       NaN   \n",
       "3  Las Vegas, Nevada, USA   Blue       False   WomenStrawweight       NaN   \n",
       "4  Las Vegas, Nevada, USA   Blue       False  WomenBantamweight     0.125   \n",
       "\n",
       "   B_avg_opp_KD  ...  R_win_by_Decision_Unanimous  R_win_by_KO/TKO  \\\n",
       "0           0.0  ...                            0                1   \n",
       "1           0.0  ...                            0                3   \n",
       "2           NaN  ...                            1                3   \n",
       "3           NaN  ...                            0                0   \n",
       "4           0.0  ...                            1                2   \n",
       "\n",
       "   R_win_by_Submission  R_win_by_TKO_Doctor_Stoppage  R_Stance  R_Height_cms  \\\n",
       "0                    0                             0  Orthodox        170.18   \n",
       "1                    0                             0  Orthodox        182.88   \n",
       "2                    0                             0  Southpaw        187.96   \n",
       "3                    0                             0    Switch        160.02   \n",
       "4                    2                             0  Orthodox        167.64   \n",
       "\n",
       "   R_Reach_cms  R_Weight_lbs  B_age  R_age  \n",
       "0       177.80         135.0   31.0   27.0  \n",
       "1       187.96         185.0   32.0   28.0  \n",
       "2       190.50         264.0   32.0   28.0  \n",
       "3       160.02         115.0   28.0   25.0  \n",
       "4       172.72         135.0   29.0   43.0  \n",
       "\n",
       "[5 rows x 144 columns]"
      ]
     },
     "execution_count": 226,
     "metadata": {},
     "output_type": "execute_result"
    }
   ],
   "source": [
    "data = pd.read_csv('data/data.csv')\n",
    "data.head()"
   ]
  },
  {
   "cell_type": "markdown",
   "metadata": {},
   "source": [
    "Data Cleaning"
   ]
  },
  {
   "cell_type": "markdown",
   "metadata": {},
   "source": [
    "Before April 2001, there were almost no rules in UFC (no judges, no time limits, no rounds, etc.). It's up to this precise date that UFC started to implement a set of rules known as \"Unified Rules of Mixed Martial Arts\". Therefore, we delete all fights before this major update in UFC's rules history."
   ]
  },
  {
   "cell_type": "code",
   "execution_count": 227,
   "metadata": {},
   "outputs": [
    {
     "name": "stdout",
     "output_type": "stream",
     "text": [
      "(6012, 144)\n"
     ]
    }
   ],
   "source": [
    "limit_date = '2001-04-01'\n",
    "#data = data[(data['date'] > limit_date)]\n",
    "print(data.shape)"
   ]
  },
  {
   "cell_type": "code",
   "execution_count": 228,
   "metadata": {},
   "outputs": [
    {
     "name": "stdout",
     "output_type": "stream",
     "text": [
      "Total NaN in dataframe : 106494\n",
      "Total NaN in each column of the dataframe\n",
      "B_avg_KD : 1427 NaN\n",
      "B_avg_opp_KD : 1427 NaN\n",
      "B_avg_SIG_STR_pct : 1427 NaN\n",
      "B_avg_opp_SIG_STR_pct : 1427 NaN\n",
      "B_avg_TD_pct : 1427 NaN\n",
      "B_avg_opp_TD_pct : 1427 NaN\n",
      "B_avg_SUB_ATT : 1427 NaN\n",
      "B_avg_opp_SUB_ATT : 1427 NaN\n",
      "B_avg_REV : 1427 NaN\n",
      "B_avg_opp_REV : 1427 NaN\n",
      "B_avg_SIG_STR_att : 1427 NaN\n",
      "B_avg_SIG_STR_landed : 1427 NaN\n",
      "B_avg_opp_SIG_STR_att : 1427 NaN\n",
      "B_avg_opp_SIG_STR_landed : 1427 NaN\n",
      "B_avg_TOTAL_STR_att : 1427 NaN\n",
      "B_avg_TOTAL_STR_landed : 1427 NaN\n",
      "B_avg_opp_TOTAL_STR_att : 1427 NaN\n",
      "B_avg_opp_TOTAL_STR_landed : 1427 NaN\n",
      "B_avg_TD_att : 1427 NaN\n",
      "B_avg_TD_landed : 1427 NaN\n",
      "B_avg_opp_TD_att : 1427 NaN\n",
      "B_avg_opp_TD_landed : 1427 NaN\n",
      "B_avg_HEAD_att : 1427 NaN\n",
      "B_avg_HEAD_landed : 1427 NaN\n",
      "B_avg_opp_HEAD_att : 1427 NaN\n",
      "B_avg_opp_HEAD_landed : 1427 NaN\n",
      "B_avg_BODY_att : 1427 NaN\n",
      "B_avg_BODY_landed : 1427 NaN\n",
      "B_avg_opp_BODY_att : 1427 NaN\n",
      "B_avg_opp_BODY_landed : 1427 NaN\n",
      "B_avg_LEG_att : 1427 NaN\n",
      "B_avg_LEG_landed : 1427 NaN\n",
      "B_avg_opp_LEG_att : 1427 NaN\n",
      "B_avg_opp_LEG_landed : 1427 NaN\n",
      "B_avg_DISTANCE_att : 1427 NaN\n",
      "B_avg_DISTANCE_landed : 1427 NaN\n",
      "B_avg_opp_DISTANCE_att : 1427 NaN\n",
      "B_avg_opp_DISTANCE_landed : 1427 NaN\n",
      "B_avg_CLINCH_att : 1427 NaN\n",
      "B_avg_CLINCH_landed : 1427 NaN\n",
      "B_avg_opp_CLINCH_att : 1427 NaN\n",
      "B_avg_opp_CLINCH_landed : 1427 NaN\n",
      "B_avg_GROUND_att : 1427 NaN\n",
      "B_avg_GROUND_landed : 1427 NaN\n",
      "B_avg_opp_GROUND_att : 1427 NaN\n",
      "B_avg_opp_GROUND_landed : 1427 NaN\n",
      "B_avg_CTRL_time(seconds) : 1427 NaN\n",
      "B_avg_opp_CTRL_time(seconds) : 1427 NaN\n",
      "B_total_time_fought(seconds) : 1427 NaN\n",
      "B_Reach_cms : 891 NaN\n",
      "R_avg_KD : 712 NaN\n",
      "R_avg_opp_KD : 712 NaN\n",
      "R_avg_SIG_STR_pct : 712 NaN\n",
      "R_avg_opp_SIG_STR_pct : 712 NaN\n",
      "R_avg_TD_pct : 712 NaN\n",
      "R_avg_opp_TD_pct : 712 NaN\n",
      "R_avg_SUB_ATT : 712 NaN\n",
      "R_avg_opp_SUB_ATT : 712 NaN\n",
      "R_avg_REV : 712 NaN\n",
      "R_avg_opp_REV : 712 NaN\n",
      "R_avg_SIG_STR_att : 712 NaN\n",
      "R_avg_SIG_STR_landed : 712 NaN\n",
      "R_avg_opp_SIG_STR_att : 712 NaN\n",
      "R_avg_opp_SIG_STR_landed : 712 NaN\n",
      "R_avg_TOTAL_STR_att : 712 NaN\n",
      "R_avg_TOTAL_STR_landed : 712 NaN\n",
      "R_avg_opp_TOTAL_STR_att : 712 NaN\n",
      "R_avg_opp_TOTAL_STR_landed : 712 NaN\n",
      "R_avg_TD_att : 712 NaN\n",
      "R_avg_TD_landed : 712 NaN\n",
      "R_avg_opp_TD_att : 712 NaN\n",
      "R_avg_opp_TD_landed : 712 NaN\n",
      "R_avg_HEAD_att : 712 NaN\n",
      "R_avg_HEAD_landed : 712 NaN\n",
      "R_avg_opp_HEAD_att : 712 NaN\n",
      "R_avg_opp_HEAD_landed : 712 NaN\n",
      "R_avg_BODY_att : 712 NaN\n",
      "R_avg_BODY_landed : 712 NaN\n",
      "R_avg_opp_BODY_att : 712 NaN\n",
      "R_avg_opp_BODY_landed : 712 NaN\n",
      "R_avg_LEG_att : 712 NaN\n",
      "R_avg_LEG_landed : 712 NaN\n",
      "R_avg_opp_LEG_att : 712 NaN\n",
      "R_avg_opp_LEG_landed : 712 NaN\n",
      "R_avg_DISTANCE_att : 712 NaN\n",
      "R_avg_DISTANCE_landed : 712 NaN\n",
      "R_avg_opp_DISTANCE_att : 712 NaN\n",
      "R_avg_opp_DISTANCE_landed : 712 NaN\n",
      "R_avg_CLINCH_att : 712 NaN\n",
      "R_avg_CLINCH_landed : 712 NaN\n",
      "R_avg_opp_CLINCH_att : 712 NaN\n",
      "R_avg_opp_CLINCH_landed : 712 NaN\n",
      "R_avg_GROUND_att : 712 NaN\n",
      "R_avg_GROUND_landed : 712 NaN\n",
      "R_avg_opp_GROUND_att : 712 NaN\n",
      "R_avg_opp_GROUND_landed : 712 NaN\n",
      "R_avg_CTRL_time(seconds) : 712 NaN\n",
      "R_avg_opp_CTRL_time(seconds) : 712 NaN\n",
      "R_total_time_fought(seconds) : 712 NaN\n",
      "R_Reach_cms : 406 NaN\n",
      "B_age : 172 NaN\n",
      "B_Stance : 66 NaN\n",
      "R_age : 63 NaN\n",
      "Referee : 32 NaN\n",
      "R_Stance : 29 NaN\n",
      "B_Height_cms : 10 NaN\n",
      "B_Weight_lbs : 8 NaN\n",
      "R_Height_cms : 4 NaN\n",
      "R_Weight_lbs : 2 NaN\n",
      "R_fighter : 0 NaN\n",
      "B_fighter : 0 NaN\n",
      "date : 0 NaN\n",
      "location : 0 NaN\n",
      "Winner : 0 NaN\n",
      "title_bout : 0 NaN\n",
      "weight_class : 0 NaN\n",
      "B_total_rounds_fought : 0 NaN\n",
      "B_total_title_bouts : 0 NaN\n",
      "B_current_win_streak : 0 NaN\n",
      "B_current_lose_streak : 0 NaN\n",
      "B_longest_win_streak : 0 NaN\n",
      "B_wins : 0 NaN\n",
      "B_losses : 0 NaN\n",
      "B_draw : 0 NaN\n",
      "B_win_by_Decision_Majority : 0 NaN\n",
      "B_win_by_Decision_Split : 0 NaN\n",
      "B_win_by_Decision_Unanimous : 0 NaN\n",
      "B_win_by_KO/TKO : 0 NaN\n",
      "B_win_by_Submission : 0 NaN\n",
      "B_win_by_TKO_Doctor_Stoppage : 0 NaN\n",
      "R_total_rounds_fought : 0 NaN\n",
      "R_total_title_bouts : 0 NaN\n",
      "R_current_win_streak : 0 NaN\n",
      "R_current_lose_streak : 0 NaN\n",
      "R_longest_win_streak : 0 NaN\n",
      "R_wins : 0 NaN\n",
      "R_losses : 0 NaN\n",
      "R_draw : 0 NaN\n",
      "R_win_by_Decision_Majority : 0 NaN\n",
      "R_win_by_Decision_Split : 0 NaN\n",
      "R_win_by_Decision_Unanimous : 0 NaN\n",
      "R_win_by_KO/TKO : 0 NaN\n",
      "R_win_by_Submission : 0 NaN\n",
      "R_win_by_TKO_Doctor_Stoppage : 0 NaN\n"
     ]
    }
   ],
   "source": [
    "print(\"Total NaN in dataframe :\" , data.isna().sum().sum())\n",
    "print(\"Total NaN in each column of the dataframe\")\n",
    "na = []\n",
    "for index, col in enumerate(data):\n",
    "    na.append((index, data[col].isna().sum())) \n",
    "na_sorted = na.copy()\n",
    "na_sorted.sort(key = lambda x: x[1], reverse = True) \n",
    "\n",
    "for i in range(len(data.columns)):\n",
    "    print(data.columns[na_sorted[i][0]],\":\", na_sorted[i][1], \"NaN\")"
   ]
  },
  {
   "cell_type": "code",
   "execution_count": 229,
   "metadata": {},
   "outputs": [
    {
     "name": "stdout",
     "output_type": "stream",
     "text": [
      "Total NaN in dataframe : 106494\n",
      "Total NaN in each column of the dataframe\n",
      "B_avg_KD : 1427 NaN\n",
      "B_avg_opp_KD : 1427 NaN\n",
      "B_avg_SIG_STR_pct : 1427 NaN\n",
      "B_avg_opp_SIG_STR_pct : 1427 NaN\n",
      "B_avg_TD_pct : 1427 NaN\n",
      "B_avg_opp_TD_pct : 1427 NaN\n",
      "B_avg_SUB_ATT : 1427 NaN\n",
      "B_avg_opp_SUB_ATT : 1427 NaN\n",
      "B_avg_REV : 1427 NaN\n",
      "B_avg_opp_REV : 1427 NaN\n",
      "B_avg_SIG_STR_att : 1427 NaN\n",
      "B_avg_SIG_STR_landed : 1427 NaN\n",
      "B_avg_opp_SIG_STR_att : 1427 NaN\n",
      "B_avg_opp_SIG_STR_landed : 1427 NaN\n",
      "B_avg_TOTAL_STR_att : 1427 NaN\n",
      "B_avg_TOTAL_STR_landed : 1427 NaN\n",
      "B_avg_opp_TOTAL_STR_att : 1427 NaN\n",
      "B_avg_opp_TOTAL_STR_landed : 1427 NaN\n",
      "B_avg_TD_att : 1427 NaN\n",
      "B_avg_TD_landed : 1427 NaN\n",
      "B_avg_opp_TD_att : 1427 NaN\n",
      "B_avg_opp_TD_landed : 1427 NaN\n",
      "B_avg_HEAD_att : 1427 NaN\n",
      "B_avg_HEAD_landed : 1427 NaN\n",
      "B_avg_opp_HEAD_att : 1427 NaN\n",
      "B_avg_opp_HEAD_landed : 1427 NaN\n",
      "B_avg_BODY_att : 1427 NaN\n",
      "B_avg_BODY_landed : 1427 NaN\n",
      "B_avg_opp_BODY_att : 1427 NaN\n",
      "B_avg_opp_BODY_landed : 1427 NaN\n",
      "B_avg_LEG_att : 1427 NaN\n",
      "B_avg_LEG_landed : 1427 NaN\n",
      "B_avg_opp_LEG_att : 1427 NaN\n",
      "B_avg_opp_LEG_landed : 1427 NaN\n",
      "B_avg_DISTANCE_att : 1427 NaN\n",
      "B_avg_DISTANCE_landed : 1427 NaN\n",
      "B_avg_opp_DISTANCE_att : 1427 NaN\n",
      "B_avg_opp_DISTANCE_landed : 1427 NaN\n",
      "B_avg_CLINCH_att : 1427 NaN\n",
      "B_avg_CLINCH_landed : 1427 NaN\n",
      "B_avg_opp_CLINCH_att : 1427 NaN\n",
      "B_avg_opp_CLINCH_landed : 1427 NaN\n",
      "B_avg_GROUND_att : 1427 NaN\n",
      "B_avg_GROUND_landed : 1427 NaN\n",
      "B_avg_opp_GROUND_att : 1427 NaN\n",
      "B_avg_opp_GROUND_landed : 1427 NaN\n",
      "B_avg_CTRL_time(seconds) : 1427 NaN\n",
      "B_avg_opp_CTRL_time(seconds) : 1427 NaN\n",
      "B_total_time_fought(seconds) : 1427 NaN\n",
      "B_Reach_cms : 891 NaN\n",
      "R_avg_KD : 712 NaN\n",
      "R_avg_opp_KD : 712 NaN\n",
      "R_avg_SIG_STR_pct : 712 NaN\n",
      "R_avg_opp_SIG_STR_pct : 712 NaN\n",
      "R_avg_TD_pct : 712 NaN\n",
      "R_avg_opp_TD_pct : 712 NaN\n",
      "R_avg_SUB_ATT : 712 NaN\n",
      "R_avg_opp_SUB_ATT : 712 NaN\n",
      "R_avg_REV : 712 NaN\n",
      "R_avg_opp_REV : 712 NaN\n",
      "R_avg_SIG_STR_att : 712 NaN\n",
      "R_avg_SIG_STR_landed : 712 NaN\n",
      "R_avg_opp_SIG_STR_att : 712 NaN\n",
      "R_avg_opp_SIG_STR_landed : 712 NaN\n",
      "R_avg_TOTAL_STR_att : 712 NaN\n",
      "R_avg_TOTAL_STR_landed : 712 NaN\n",
      "R_avg_opp_TOTAL_STR_att : 712 NaN\n",
      "R_avg_opp_TOTAL_STR_landed : 712 NaN\n",
      "R_avg_TD_att : 712 NaN\n",
      "R_avg_TD_landed : 712 NaN\n",
      "R_avg_opp_TD_att : 712 NaN\n",
      "R_avg_opp_TD_landed : 712 NaN\n",
      "R_avg_HEAD_att : 712 NaN\n",
      "R_avg_HEAD_landed : 712 NaN\n",
      "R_avg_opp_HEAD_att : 712 NaN\n",
      "R_avg_opp_HEAD_landed : 712 NaN\n",
      "R_avg_BODY_att : 712 NaN\n",
      "R_avg_BODY_landed : 712 NaN\n",
      "R_avg_opp_BODY_att : 712 NaN\n",
      "R_avg_opp_BODY_landed : 712 NaN\n",
      "R_avg_LEG_att : 712 NaN\n",
      "R_avg_LEG_landed : 712 NaN\n",
      "R_avg_opp_LEG_att : 712 NaN\n",
      "R_avg_opp_LEG_landed : 712 NaN\n",
      "R_avg_DISTANCE_att : 712 NaN\n",
      "R_avg_DISTANCE_landed : 712 NaN\n",
      "R_avg_opp_DISTANCE_att : 712 NaN\n",
      "R_avg_opp_DISTANCE_landed : 712 NaN\n",
      "R_avg_CLINCH_att : 712 NaN\n",
      "R_avg_CLINCH_landed : 712 NaN\n",
      "R_avg_opp_CLINCH_att : 712 NaN\n",
      "R_avg_opp_CLINCH_landed : 712 NaN\n",
      "R_avg_GROUND_att : 712 NaN\n",
      "R_avg_GROUND_landed : 712 NaN\n",
      "R_avg_opp_GROUND_att : 712 NaN\n",
      "R_avg_opp_GROUND_landed : 712 NaN\n",
      "R_avg_CTRL_time(seconds) : 712 NaN\n",
      "R_avg_opp_CTRL_time(seconds) : 712 NaN\n",
      "R_total_time_fought(seconds) : 712 NaN\n",
      "R_Reach_cms : 406 NaN\n",
      "B_age : 172 NaN\n",
      "B_Stance : 66 NaN\n",
      "R_age : 63 NaN\n",
      "Referee : 32 NaN\n",
      "R_Stance : 29 NaN\n",
      "B_Height_cms : 10 NaN\n",
      "B_Weight_lbs : 8 NaN\n",
      "R_Height_cms : 4 NaN\n",
      "R_Weight_lbs : 2 NaN\n",
      "R_fighter : 0 NaN\n",
      "B_fighter : 0 NaN\n",
      "date : 0 NaN\n",
      "location : 0 NaN\n",
      "Winner : 0 NaN\n",
      "title_bout : 0 NaN\n",
      "weight_class : 0 NaN\n",
      "B_total_rounds_fought : 0 NaN\n",
      "B_total_title_bouts : 0 NaN\n",
      "B_current_win_streak : 0 NaN\n",
      "B_current_lose_streak : 0 NaN\n",
      "B_longest_win_streak : 0 NaN\n",
      "B_wins : 0 NaN\n",
      "B_losses : 0 NaN\n",
      "B_draw : 0 NaN\n",
      "B_win_by_Decision_Majority : 0 NaN\n",
      "B_win_by_Decision_Split : 0 NaN\n",
      "B_win_by_Decision_Unanimous : 0 NaN\n",
      "B_win_by_KO/TKO : 0 NaN\n",
      "B_win_by_Submission : 0 NaN\n",
      "B_win_by_TKO_Doctor_Stoppage : 0 NaN\n",
      "R_total_rounds_fought : 0 NaN\n",
      "R_total_title_bouts : 0 NaN\n",
      "R_current_win_streak : 0 NaN\n",
      "R_current_lose_streak : 0 NaN\n",
      "R_longest_win_streak : 0 NaN\n",
      "R_wins : 0 NaN\n",
      "R_losses : 0 NaN\n",
      "R_draw : 0 NaN\n",
      "R_win_by_Decision_Majority : 0 NaN\n",
      "R_win_by_Decision_Split : 0 NaN\n",
      "R_win_by_Decision_Unanimous : 0 NaN\n",
      "R_win_by_KO/TKO : 0 NaN\n",
      "R_win_by_Submission : 0 NaN\n",
      "R_win_by_TKO_Doctor_Stoppage : 0 NaN\n"
     ]
    }
   ],
   "source": [
    "print(\"Total NaN in dataframe :\" , data.isna().sum().sum())\n",
    "print(\"Total NaN in each column of the dataframe\")\n",
    "na = []\n",
    "for index, col in enumerate(data):\n",
    "    na.append((index, data[col].isna().sum())) \n",
    "na_sorted = na.copy()\n",
    "na_sorted.sort(key = lambda x: x[1], reverse = True) \n",
    "\n",
    "for i in range(len(data.columns)):\n",
    "    print(data.columns[na_sorted[i][0]],\":\", na_sorted[i][1], \"NaN\")"
   ]
  },
  {
   "cell_type": "code",
   "execution_count": 230,
   "metadata": {},
   "outputs": [],
   "source": [
    "from sklearn.impute import SimpleImputer\n",
    "\n",
    "imp_features = ['R_Weight_lbs', 'R_Height_cms', 'B_Height_cms', 'R_age', 'B_age', 'R_Reach_cms', 'B_Reach_cms']\n",
    "imp_median = SimpleImputer(missing_values=np.nan, strategy='median')\n",
    "\n",
    "for feature in imp_features:\n",
    "    imp_feature = imp_median.fit_transform(data[feature].values.reshape(-1,1))\n",
    "    data[feature] = imp_feature\n",
    "\n",
    "imp_stance = SimpleImputer(missing_values=np.nan, strategy='most_frequent')\n",
    "imp_R_stance = imp_stance.fit_transform(data['R_Stance'].values.reshape(-1,1))\n",
    "imp_B_stance = imp_stance.fit_transform(data['B_Stance'].values.reshape(-1,1))\n",
    "data['R_Stance'] = imp_R_stance\n",
    "data['B_Stance'] = imp_B_stance"
   ]
  },
  {
   "cell_type": "code",
   "execution_count": 231,
   "metadata": {},
   "outputs": [
    {
     "name": "stdout",
     "output_type": "stream",
     "text": [
      "Number of features with NaN values : 109\n"
     ]
    }
   ],
   "source": [
    "print('Number of features with NaN values :', len([x[1] for x in na if x[1] > 0]))"
   ]
  },
  {
   "cell_type": "code",
   "execution_count": 232,
   "metadata": {},
   "outputs": [],
   "source": [
    "na_features = ['B_avg_BODY_att', 'R_avg_BODY_att']\n",
    "data.dropna(subset = na_features, inplace = True)\n",
    "\n",
    "data.drop(['Referee', 'location'], axis = 1, inplace = True)"
   ]
  },
  {
   "cell_type": "code",
   "execution_count": 233,
   "metadata": {},
   "outputs": [
    {
     "name": "stdout",
     "output_type": "stream",
     "text": [
      "(4316, 142)\n",
      "Total NaN in dataframe : 0\n"
     ]
    }
   ],
   "source": [
    "print(data.shape)\n",
    "print(\"Total NaN in dataframe :\" , data.isna().sum().sum())"
   ]
  },
  {
   "cell_type": "markdown",
   "metadata": {},
   "source": [
    "\n",
    "Feature Engineering"
   ]
  },
  {
   "cell_type": "code",
   "execution_count": 234,
   "metadata": {},
   "outputs": [
    {
     "data": {
      "text/plain": [
       "['R_fighter',\n",
       " 'B_fighter',\n",
       " 'date',\n",
       " 'Winner',\n",
       " 'title_bout',\n",
       " 'weight_class',\n",
       " 'B_Stance',\n",
       " 'R_Stance']"
      ]
     },
     "execution_count": 234,
     "metadata": {},
     "output_type": "execute_result"
    }
   ],
   "source": [
    "list(data.select_dtypes(include=['object', 'bool']))"
   ]
  },
  {
   "cell_type": "code",
   "execution_count": 235,
   "metadata": {},
   "outputs": [
    {
     "name": "stdout",
     "output_type": "stream",
     "text": [
      "0    4316\n",
      "Name: B_draw, dtype: int64\n",
      "0    4316\n",
      "Name: R_draw, dtype: int64\n"
     ]
    }
   ],
   "source": [
    "print(data['B_draw'].value_counts())\n",
    "print(data['R_draw'].value_counts())\n",
    "data.drop(['B_draw', 'R_draw'], axis=1, inplace=True)"
   ]
  },
  {
   "cell_type": "code",
   "execution_count": 236,
   "metadata": {},
   "outputs": [],
   "source": [
    "data = data[data['Winner'] != 'Draw']\n",
    "data = data[data['weight_class'] != 'Catch Weight']"
   ]
  },
  {
   "cell_type": "markdown",
   "metadata": {},
   "source": [
    "Data Preprocessing"
   ]
  },
  {
   "cell_type": "code",
   "execution_count": 237,
   "metadata": {},
   "outputs": [
    {
     "data": {
      "text/plain": [
       "array(['Amanda Nunes', 'Megan Anderson', '2021-03-06', 'Red', True,\n",
       "       'WomenFeatherweight', 0.5, 0.0, 0.498125, 0.415, 0.125, 0.25875,\n",
       "       0.25, 0.1875, 0.5625, 0.25, 16.4375, 8.1875, 17.9375, 8.875,\n",
       "       34.375, 25.3125, 39.375, 27.25, 1.0, 0.25, 2.25, 0.875, 14.0,\n",
       "       6.8125, 10.875, 4.3125, 2.4375, 1.375, 4.0, 2.75, 0.0, 0.0, 3.0625,\n",
       "       1.8125, 10.5625, 4.125, 10.1875, 2.5, 2.125, 1.5625, 4.25, 3.5,\n",
       "       3.75, 2.5, 3.5, 2.875, 58.0, 136.3125, 250.3125, 7, 0, 0, 1, 2, 3,\n",
       "       2, 0, 0, 0, 2, 1, 0, 'Orthodox', 182.88, 182.88, 145.0,\n",
       "       0.25146484375, 0.0, 0.5198291015625, 0.428233642578125,\n",
       "       0.633231201171875, 0.005947265625, 1.0087890625, 0.250732421875,\n",
       "       0.0, 0.001953125, 170.2108154296875, 90.3916015625,\n",
       "       94.584716796875, 35.8212890625, 213.79296875, 125.3968505859375,\n",
       "       136.8037109375, 72.43798828125, 6.637939453125, 5.1295166015625,\n",
       "       3.853271484375, 0.033935546875, 136.6878662109375,\n",
       "       65.3922119140625, 73.3140869140625, 19.2943115234375,\n",
       "       14.47705078125, 9.4871826171875, 9.2652587890625, 6.84765625,\n",
       "       19.0458984375, 15.51220703125, 12.00537109375, 9.6793212890625,\n",
       "       112.78759765625, 56.0877685546875, 80.2686767578125, 27.1787109375,\n",
       "       2.530029296875, 1.934814453125, 8.1795654296875, 5.27734375,\n",
       "       54.8931884765625, 32.3690185546875, 6.136474609375, 3.365234375,\n",
       "       530.2392578125, 33.670166015625, 1228.584716796875, 34, 8, 2, 0,\n",
       "       11, 13, 1, 0, 1, 3, 7, 2, 0, 'Orthodox', 172.72, 175.26, 145.0,\n",
       "       31.0, 32.0], dtype=object)"
      ]
     },
     "execution_count": 237,
     "metadata": {},
     "output_type": "execute_result"
    }
   ],
   "source": [
    "#  i = index of the fighter's fight, 0 means the last fight, -1 means first fight\n",
    "def select_fight_row(data, name, i): \n",
    "    data_temp = data[(data['R_fighter'] == name) | (data['B_fighter'] == name)]  # filter data on fighter's name\n",
    "    data_temp.reset_index(drop=True, inplace=True) #  as we created a new temporary dataframe, we have to reset indexes\n",
    "    idx = max(data_temp.index)  #  get the index of the oldest fight\n",
    "    if i > idx:  #  if we are looking for a fight that didn't exist, we return nothing\n",
    "        return \n",
    "    arr = data_temp.iloc[i,:].values\n",
    "    return arr\n",
    "\n",
    "select_fight_row(data, 'Amanda Nunes', 0) #  we get the last fight of Amanda Nunes"
   ]
  },
  {
   "cell_type": "code",
   "execution_count": 238,
   "metadata": {},
   "outputs": [],
   "source": [
    "# get all active UFC fighters (according to the limit_date parameter)\n",
    "def list_fighters(data, limit_date):\n",
    "    data_temp = data[data['date'] > limit_date]\n",
    "    set_R = set(data_temp['R_fighter'])\n",
    "    set_B = set(data_temp['B_fighter'])\n",
    "    fighters = list(set_R.union(set_B))\n",
    "    return fighters"
   ]
  },
  {
   "cell_type": "code",
   "execution_count": 239,
   "metadata": {},
   "outputs": [
    {
     "name": "stdout",
     "output_type": "stream",
     "text": [
      "850\n"
     ]
    }
   ],
   "source": [
    "fighters = list_fighters(data, '2017-01-01')\n",
    "print(len(fighters))"
   ]
  },
  {
   "cell_type": "code",
   "execution_count": 240,
   "metadata": {},
   "outputs": [],
   "source": [
    "def build_data(data, fighters, i):      \n",
    "    arr = [select_fight_row(data, fighters[f], i) for f in range(len(fighters)) if select_fight_row(data, fighters[f], i) is not None]\n",
    "    cols = [col for col in data] \n",
    "    data_fights = pd.DataFrame(data=arr, columns=cols)\n",
    "    data_fights.drop_duplicates(inplace=True)\n",
    "    data_fights['title_bout'] = data_fights['title_bout'].replace({True: 1, False: 0})\n",
    "    data_fights.drop(['R_fighter', 'B_fighter', 'date'], axis=1, inplace=True)\n",
    "    return data_fights\n",
    "\n",
    "data_train = build_data(data, fighters, 0)\n",
    "data_test = build_data(data, fighters, 1)"
   ]
  },
  {
   "cell_type": "code",
   "execution_count": 241,
   "metadata": {},
   "outputs": [
    {
     "data": {
      "text/html": [
       "<div>\n",
       "<style scoped>\n",
       "    .dataframe tbody tr th:only-of-type {\n",
       "        vertical-align: middle;\n",
       "    }\n",
       "\n",
       "    .dataframe tbody tr th {\n",
       "        vertical-align: top;\n",
       "    }\n",
       "\n",
       "    .dataframe thead th {\n",
       "        text-align: right;\n",
       "    }\n",
       "</style>\n",
       "<table border=\"1\" class=\"dataframe\">\n",
       "  <thead>\n",
       "    <tr style=\"text-align: right;\">\n",
       "      <th></th>\n",
       "      <th>Winner</th>\n",
       "      <th>title_bout</th>\n",
       "      <th>weight_class</th>\n",
       "      <th>B_avg_KD</th>\n",
       "      <th>B_avg_opp_KD</th>\n",
       "      <th>B_avg_SIG_STR_pct</th>\n",
       "      <th>B_avg_opp_SIG_STR_pct</th>\n",
       "      <th>B_avg_TD_pct</th>\n",
       "      <th>B_avg_opp_TD_pct</th>\n",
       "      <th>B_avg_SUB_ATT</th>\n",
       "      <th>...</th>\n",
       "      <th>R_win_by_Decision_Unanimous</th>\n",
       "      <th>R_win_by_KO/TKO</th>\n",
       "      <th>R_win_by_Submission</th>\n",
       "      <th>R_win_by_TKO_Doctor_Stoppage</th>\n",
       "      <th>R_Stance</th>\n",
       "      <th>R_Height_cms</th>\n",
       "      <th>R_Reach_cms</th>\n",
       "      <th>R_Weight_lbs</th>\n",
       "      <th>B_age</th>\n",
       "      <th>R_age</th>\n",
       "    </tr>\n",
       "  </thead>\n",
       "  <tbody>\n",
       "    <tr>\n",
       "      <th>0</th>\n",
       "      <td>Red</td>\n",
       "      <td>0</td>\n",
       "      <td>Featherweight</td>\n",
       "      <td>0.000000</td>\n",
       "      <td>0.500000</td>\n",
       "      <td>0.300000</td>\n",
       "      <td>0.520000</td>\n",
       "      <td>0.000000</td>\n",
       "      <td>0.330000</td>\n",
       "      <td>0.00000</td>\n",
       "      <td>...</td>\n",
       "      <td>0</td>\n",
       "      <td>0</td>\n",
       "      <td>0</td>\n",
       "      <td>0</td>\n",
       "      <td>Southpaw</td>\n",
       "      <td>170.18</td>\n",
       "      <td>185.42</td>\n",
       "      <td>145.0</td>\n",
       "      <td>25.0</td>\n",
       "      <td>29.0</td>\n",
       "    </tr>\n",
       "    <tr>\n",
       "      <th>1</th>\n",
       "      <td>Red</td>\n",
       "      <td>0</td>\n",
       "      <td>Heavyweight</td>\n",
       "      <td>0.625000</td>\n",
       "      <td>0.000000</td>\n",
       "      <td>0.443594</td>\n",
       "      <td>0.375937</td>\n",
       "      <td>0.151250</td>\n",
       "      <td>0.193438</td>\n",
       "      <td>0.06250</td>\n",
       "      <td>...</td>\n",
       "      <td>3</td>\n",
       "      <td>2</td>\n",
       "      <td>0</td>\n",
       "      <td>1</td>\n",
       "      <td>Orthodox</td>\n",
       "      <td>193.04</td>\n",
       "      <td>203.20</td>\n",
       "      <td>265.0</td>\n",
       "      <td>38.0</td>\n",
       "      <td>28.0</td>\n",
       "    </tr>\n",
       "    <tr>\n",
       "      <th>2</th>\n",
       "      <td>Red</td>\n",
       "      <td>0</td>\n",
       "      <td>Featherweight</td>\n",
       "      <td>0.000000</td>\n",
       "      <td>0.000000</td>\n",
       "      <td>0.550000</td>\n",
       "      <td>0.530000</td>\n",
       "      <td>0.000000</td>\n",
       "      <td>0.000000</td>\n",
       "      <td>0.00000</td>\n",
       "      <td>...</td>\n",
       "      <td>0</td>\n",
       "      <td>0</td>\n",
       "      <td>0</td>\n",
       "      <td>0</td>\n",
       "      <td>Orthodox</td>\n",
       "      <td>182.88</td>\n",
       "      <td>187.96</td>\n",
       "      <td>145.0</td>\n",
       "      <td>27.0</td>\n",
       "      <td>27.0</td>\n",
       "    </tr>\n",
       "    <tr>\n",
       "      <th>3</th>\n",
       "      <td>Red</td>\n",
       "      <td>1</td>\n",
       "      <td>Welterweight</td>\n",
       "      <td>1.410767</td>\n",
       "      <td>0.187584</td>\n",
       "      <td>0.674780</td>\n",
       "      <td>0.324240</td>\n",
       "      <td>0.567714</td>\n",
       "      <td>0.140651</td>\n",
       "      <td>0.00502</td>\n",
       "      <td>...</td>\n",
       "      <td>8</td>\n",
       "      <td>2</td>\n",
       "      <td>1</td>\n",
       "      <td>0</td>\n",
       "      <td>Switch</td>\n",
       "      <td>182.88</td>\n",
       "      <td>193.04</td>\n",
       "      <td>170.0</td>\n",
       "      <td>35.0</td>\n",
       "      <td>33.0</td>\n",
       "    </tr>\n",
       "    <tr>\n",
       "      <th>4</th>\n",
       "      <td>Red</td>\n",
       "      <td>0</td>\n",
       "      <td>Heavyweight</td>\n",
       "      <td>0.000000</td>\n",
       "      <td>0.000000</td>\n",
       "      <td>0.572500</td>\n",
       "      <td>0.467500</td>\n",
       "      <td>0.250000</td>\n",
       "      <td>0.250000</td>\n",
       "      <td>0.25000</td>\n",
       "      <td>...</td>\n",
       "      <td>0</td>\n",
       "      <td>0</td>\n",
       "      <td>0</td>\n",
       "      <td>0</td>\n",
       "      <td>Southpaw</td>\n",
       "      <td>190.50</td>\n",
       "      <td>213.36</td>\n",
       "      <td>257.0</td>\n",
       "      <td>26.0</td>\n",
       "      <td>26.0</td>\n",
       "    </tr>\n",
       "  </tbody>\n",
       "</table>\n",
       "<p>5 rows × 137 columns</p>\n",
       "</div>"
      ],
      "text/plain": [
       "  Winner  title_bout   weight_class  B_avg_KD  B_avg_opp_KD  \\\n",
       "0    Red           0  Featherweight  0.000000      0.500000   \n",
       "1    Red           0    Heavyweight  0.625000      0.000000   \n",
       "2    Red           0  Featherweight  0.000000      0.000000   \n",
       "3    Red           1   Welterweight  1.410767      0.187584   \n",
       "4    Red           0    Heavyweight  0.000000      0.000000   \n",
       "\n",
       "   B_avg_SIG_STR_pct  B_avg_opp_SIG_STR_pct  B_avg_TD_pct  B_avg_opp_TD_pct  \\\n",
       "0           0.300000               0.520000      0.000000          0.330000   \n",
       "1           0.443594               0.375937      0.151250          0.193438   \n",
       "2           0.550000               0.530000      0.000000          0.000000   \n",
       "3           0.674780               0.324240      0.567714          0.140651   \n",
       "4           0.572500               0.467500      0.250000          0.250000   \n",
       "\n",
       "   B_avg_SUB_ATT  ...  R_win_by_Decision_Unanimous  R_win_by_KO/TKO  \\\n",
       "0        0.00000  ...                            0                0   \n",
       "1        0.06250  ...                            3                2   \n",
       "2        0.00000  ...                            0                0   \n",
       "3        0.00502  ...                            8                2   \n",
       "4        0.25000  ...                            0                0   \n",
       "\n",
       "   R_win_by_Submission  R_win_by_TKO_Doctor_Stoppage  R_Stance  R_Height_cms  \\\n",
       "0                    0                             0  Southpaw        170.18   \n",
       "1                    0                             1  Orthodox        193.04   \n",
       "2                    0                             0  Orthodox        182.88   \n",
       "3                    1                             0    Switch        182.88   \n",
       "4                    0                             0  Southpaw        190.50   \n",
       "\n",
       "   R_Reach_cms  R_Weight_lbs  B_age  R_age  \n",
       "0       185.42         145.0   25.0   29.0  \n",
       "1       203.20         265.0   38.0   28.0  \n",
       "2       187.96         145.0   27.0   27.0  \n",
       "3       193.04         170.0   35.0   33.0  \n",
       "4       213.36         257.0   26.0   26.0  \n",
       "\n",
       "[5 rows x 137 columns]"
      ]
     },
     "execution_count": 241,
     "metadata": {},
     "output_type": "execute_result"
    }
   ],
   "source": [
    "data_train.head(5)"
   ]
  },
  {
   "cell_type": "code",
   "execution_count": 242,
   "metadata": {},
   "outputs": [
    {
     "data": {
      "text/plain": [
       "array(['Featherweight', 'Heavyweight', 'Welterweight', 'WomenFlyweight',\n",
       "       'Lightweight', 'Middleweight', 'Bantamweight', 'CatchWeight',\n",
       "       'WomenBantamweight', 'Flyweight', 'LightHeavyweight',\n",
       "       'WomenStrawweight', 'WomenFeatherweight'], dtype=object)"
      ]
     },
     "execution_count": 242,
     "metadata": {},
     "output_type": "execute_result"
    }
   ],
   "source": [
    "data_train['weight_class'].unique() "
   ]
  },
  {
   "cell_type": "code",
   "execution_count": 243,
   "metadata": {},
   "outputs": [
    {
     "name": "stdout",
     "output_type": "stream",
     "text": [
      "(648, 137)\n",
      "(611, 137)\n"
     ]
    }
   ],
   "source": [
    "print(data_train.shape)\n",
    "print(data_test.shape)"
   ]
  },
  {
   "cell_type": "code",
   "execution_count": 244,
   "metadata": {},
   "outputs": [
    {
     "name": "stdout",
     "output_type": "stream",
     "text": [
      "278\n",
      "370\n",
      "258\n",
      "353\n"
     ]
    }
   ],
   "source": [
    "print(len(data_train[data_train['Winner'] == 'Blue']))\n",
    "print(len(data_train[data_train['Winner'] == 'Red']))\n",
    "print(len(data_test[data_test['Winner'] == 'Blue']))\n",
    "print(len(data_test[data_test['Winner'] == 'Red']))"
   ]
  },
  {
   "cell_type": "code",
   "execution_count": 245,
   "metadata": {},
   "outputs": [],
   "source": [
    "from sklearn.preprocessing import OrdinalEncoder, LabelEncoder\n",
    "from sklearn.compose import make_column_transformer\n",
    "\n",
    "preprocessor = make_column_transformer((OrdinalEncoder(), ['weight_class', 'B_Stance', 'R_Stance']), remainder='passthrough')\n",
    "\n",
    "# If the winner is from the Red corner, Winner label will be encoded as 1, otherwise it will be 0 (Blue corner)\n",
    "label_encoder = LabelEncoder()\n",
    "y_train = label_encoder.fit_transform(data_train['Winner'])\n",
    "y_test = label_encoder.transform(data_test['Winner'])\n",
    "\n",
    "X_train, X_test = data_train.drop(['Winner'], axis=1), data_test.drop(['Winner'], axis=1)"
   ]
  },
  {
   "cell_type": "code",
   "execution_count": 246,
   "metadata": {},
   "outputs": [
    {
     "name": "stdout",
     "output_type": "stream",
     "text": [
      "(648, 136)\n",
      "(648,)\n",
      "(611, 136)\n",
      "(611,)\n"
     ]
    }
   ],
   "source": [
    "print(X_train.shape)\n",
    "print(y_train.shape)\n",
    "print(X_test.shape)\n",
    "print(y_test.shape)"
   ]
  },
  {
   "cell_type": "code",
   "execution_count": 247,
   "metadata": {},
   "outputs": [],
   "source": [
    "# from sklearn.model_selection import GridSearchCV\n",
    "# parameters = [{'random_forest__n_estimators': [10, 50, 100, 500, 1000],\n",
    "#               'random_forest__criterion': ['gini', 'entropy'],\n",
    "#               'random_forest__max_depth': [5, 10, 50],\n",
    "#               'random_forest__min_samples_split': [2, 3, 4],\n",
    "#               'random_forest__min_samples_leaf': [1, 2, 3],\n",
    "#              }]\n",
    "# model = Pipeline([('encoding', preprocessor), ('random_forest', RandomForestClassifier())])\n",
    "\n",
    "# grid_search = GridSearchCV(estimator=model, param_grid=parameters, scoring='accuracy', cv=5, n_jobs=-1)\n",
    "# grid_search = grid_search.fit(X_train, y_train)\n",
    "# best_accuracy = grid_search.best_score_\n",
    "\n",
    "# best_params = grid_search.best_params_\n",
    "# print('Best accuracy : ', best_accuracy)\n",
    "# print('Best parameters : ', best_params)"
   ]
  },
  {
   "cell_type": "markdown",
   "metadata": {},
   "source": [
    "Random Forest Model"
   ]
  },
  {
   "cell_type": "code",
   "execution_count": 248,
   "metadata": {},
   "outputs": [
    {
     "name": "stdout",
     "output_type": "stream",
     "text": [
      "Accuracy mean :  0.6171608896012823\n",
      "Accuracy standard deviation :  0.046593766172628545\n",
      "Testing accuracy :  0.7086743044189853 \n",
      "\n",
      "              precision    recall  f1-score   support\n",
      "\n",
      "        Blue       0.73      0.49      0.59       258\n",
      "         Red       0.70      0.87      0.77       353\n",
      "\n",
      "    accuracy                           0.71       611\n",
      "   macro avg       0.72      0.68      0.68       611\n",
      "weighted avg       0.71      0.71      0.70       611\n",
      "\n"
     ]
    }
   ],
   "source": [
    "random_forest = RandomForestClassifier(n_estimators=130, \n",
    "                                       criterion='entropy', \n",
    "                                       max_depth=10, \n",
    "                                       min_samples_split=2,\n",
    "                                       min_samples_leaf=1, \n",
    "                                       random_state=0)\n",
    "\n",
    "model = Pipeline([('encoding', preprocessor), ('random_forest', random_forest)])\n",
    "model.fit(X_train, y_train)\n",
    "\n",
    "# We use cross-validation with 7-folds to have a more precise accuracy (reduce variation)\n",
    "accuracies = cross_val_score(estimator=model, X=X_train, y=y_train, cv=7)\n",
    "print('Accuracy mean : ', accuracies.mean())\n",
    "print('Accuracy standard deviation : ', accuracies.std())\n",
    "\n",
    "y_pred = model.predict(X_test)\n",
    "print('Testing accuracy : ', accuracy_score(y_test, y_pred), '\\n')\n",
    "\n",
    "target_names = [\"Blue\",\"Red\"]\n",
    "print(classification_report(y_test, y_pred, labels=[0,1], target_names=target_names))"
   ]
  },
  {
   "cell_type": "markdown",
   "metadata": {},
   "source": [
    "Predictions"
   ]
  },
  {
   "cell_type": "code",
   "execution_count": 249,
   "metadata": {},
   "outputs": [],
   "source": [
    "def predict(data, pipeline, blue_fighter, red_fighter, weightclass, rounds, title_bout=False): \n",
    "    \n",
    "    #We build two dataframes, one for each figther \n",
    "    f1 = data[(data['R_fighter'] == blue_fighter) | (data['B_fighter'] == blue_fighter)].copy()\n",
    "    f1.reset_index(drop=True, inplace=True)\n",
    "    f1 = f1[:1]\n",
    "    f2 = data[(data['R_fighter'] == red_fighter) | (data['B_fighter'] == red_fighter)].copy()\n",
    "    f2.reset_index(drop=True, inplace=True)\n",
    "    f2 = f2[:1]\n",
    "    \n",
    "    # if the fighter was red/blue corner on his last fight, we filter columns to only keep his statistics (and not the other fighter)\n",
    "    # then we rename columns according to the color of  the corner in the parameters using re.sub()\n",
    "    if (f1.loc[0, ['R_fighter']].values[0]) == blue_fighter:\n",
    "        result1 = f1.filter(regex='^R', axis=1).copy() #here we keep the red corner stats\n",
    "        result1.rename(columns = lambda x: re.sub('^R','B', x), inplace=True)  #we rename it with \"B_\" prefix because he's in the blue_corner\n",
    "    else: \n",
    "        result1 = f1.filter(regex='^B', axis=1).copy()\n",
    "    if (f2.loc[0, ['R_fighter']].values[0]) == red_fighter:\n",
    "        result2 = f2.filter(regex='^R', axis=1).copy()\n",
    "    else:\n",
    "        result2 = f2.filter(regex='^B', axis=1).copy()\n",
    "        result2.rename(columns = lambda x: re.sub('^B','R', x), inplace=True)\n",
    "        \n",
    "    fight = pd.concat([result1, result2], axis = 1) # we concatenate the red and blue fighter dataframes (in columns)\n",
    "    fight.drop(['R_fighter','B_fighter'], axis = 1, inplace = True) # we remove fighter names\n",
    "    fight.insert(0, 'title_bout', title_bout) # we add tittle_bout, weight class and number of rounds data to the dataframe\n",
    "    fight.insert(1, 'weight_class', weightclass)\n",
    "    fight.insert(2, 'no_of_rounds', rounds)\n",
    "    fight['title_bout'] = fight['title_bout'].replace({True: 1, False: 0})\n",
    "    \n",
    "    pred = pipeline.predict(fight)\n",
    "    proba = pipeline.predict_proba(fight)\n",
    "    if (pred == 1.0): \n",
    "        print(\"The predicted winner is\", red_fighter, 'with a probability of', round(proba[0][1] * 100, 2), \"%\")\n",
    "    else:\n",
    "        print(\"The predicted winner is\", blue_fighter, 'with a probability of ', round(proba[0][0] * 100, 2), \"%\")\n",
    "    return proba"
   ]
  },
  {
   "cell_type": "code",
   "execution_count": 42,
   "metadata": {},
   "outputs": [
    {
     "name": "stdout",
     "output_type": "stream",
     "text": [
      "The predicted winner is Colby Covington with a probability of 78.37 %\n"
     ]
    },
    {
     "data": {
      "text/plain": [
       "array([[0.21629572, 0.78370428]])"
      ]
     },
     "execution_count": 42,
     "metadata": {},
     "output_type": "execute_result"
    }
   ],
   "source": [
    "predict(data, model, 'Kamaru Usman', 'Colby Covington', 'Welterweight', 5, True) "
   ]
  },
  {
   "cell_type": "code",
   "execution_count": null,
   "metadata": {},
   "outputs": [
    {
     "name": "stdout",
     "output_type": "stream",
     "text": [
      "The predicted winner is Alexander Volkanovski with a probability of 80.55 %\n"
     ]
    },
    {
     "data": {
      "text/plain": [
       "array([[0.19447799, 0.80552201]])"
      ]
     },
     "metadata": {},
     "output_type": "display_data"
    }
   ],
   "source": [
    "predict(data, model, 'Max Holloway', 'Alexander Volkanovski', 'Featherweight', 5, True) "
   ]
  },
  {
   "cell_type": "code",
   "execution_count": 250,
   "metadata": {},
   "outputs": [
    {
     "name": "stdout",
     "output_type": "stream",
     "text": [
      "The predicted winner is Germaine de Randamie with a probability of 58.1 %\n"
     ]
    },
    {
     "data": {
      "text/plain": [
       "array([[0.41895554, 0.58104446]])"
      ]
     },
     "execution_count": 250,
     "metadata": {},
     "output_type": "execute_result"
    }
   ],
   "source": [
    "predict(data, model, 'Amanda Nunes', 'Germaine de Randamie', \"WomenBantamweight\", 5, True)"
   ]
  },
  {
   "cell_type": "code",
   "execution_count": 251,
   "metadata": {},
   "outputs": [
    {
     "name": "stdout",
     "output_type": "stream",
     "text": [
      "The predicted winner is Jose Aldo with a probability of  57.66 %\n"
     ]
    },
    {
     "data": {
      "text/plain": [
       "array([[0.57662889, 0.42337111]])"
      ]
     },
     "execution_count": 251,
     "metadata": {},
     "output_type": "execute_result"
    }
   ],
   "source": [
    "predict(data, model, 'Jose Aldo', 'Marlon Moraes', 'Bantamweight', 3, False)"
   ]
  },
  {
   "cell_type": "code",
   "execution_count": 252,
   "metadata": {},
   "outputs": [
    {
     "name": "stdout",
     "output_type": "stream",
     "text": [
      "The predicted winner is Petr Yan with a probability of 76.18 %\n"
     ]
    },
    {
     "data": {
      "text/plain": [
       "array([[0.23822623, 0.76177377]])"
      ]
     },
     "execution_count": 252,
     "metadata": {},
     "output_type": "execute_result"
    }
   ],
   "source": [
    "predict(data, model, 'Urijah Faber', 'Petr Yan', 'Bantamweight', 3, False)"
   ]
  }
 ],
 "metadata": {
  "interpreter": {
   "hash": "e847a4b7fae48b522012ecde99e2c94a65de74d8b257e2f772a41dd4d052c750"
  },
  "kernelspec": {
   "display_name": "Python 3.10.0 64-bit",
   "language": "python",
   "name": "python3"
  },
  "language_info": {
   "codemirror_mode": {
    "name": "ipython",
    "version": 3
   },
   "file_extension": ".py",
   "mimetype": "text/x-python",
   "name": "python",
   "nbconvert_exporter": "python",
   "pygments_lexer": "ipython3",
   "version": "3.10.0"
  },
  "orig_nbformat": 4
 },
 "nbformat": 4,
 "nbformat_minor": 2
}
